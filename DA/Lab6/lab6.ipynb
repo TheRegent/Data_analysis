{
 "cells": [
  {
   "cell_type": "markdown",
   "source": [
    "# Попередня обробка данних"
   ],
   "metadata": {
    "collapsed": false
   }
  },
  {
   "cell_type": "code",
   "execution_count": 1,
   "outputs": [],
   "source": [
    "import pandas as pd"
   ],
   "metadata": {
    "collapsed": false
   }
  },
  {
   "cell_type": "code",
   "execution_count": 2,
   "outputs": [],
   "source": [
    "data = pd.read_json(\"Version 3.json\", orient='split')\n",
    "pd.set_option('display.max_columns', None)"
   ],
   "metadata": {
    "collapsed": false
   }
  },
  {
   "cell_type": "code",
   "execution_count": 3,
   "outputs": [
    {
     "data": {
      "text/plain": "   Unnamed: 0       open_SAR  open_USD       high_SAR  high_USD  \\\n0  2021-01-30  128437.248512  34246.28  131012.723200  34933.00   \n1  2021-01-29  125144.022272  33368.18  144510.037760  38531.90   \n2  2021-01-28  113870.357376  30362.19  126703.438592  33783.98   \n3  2021-01-27  121753.023104  32464.01  122102.860416  32557.29   \n4  2021-01-26  120966.114176  32254.19  123470.218752  32921.88   \n\n         low_SAR   low_USD      close_SAR  close_USD    volume  \n0      123106.88  32825.00  128333.212416   34218.54   43072.0  \n1   119695.51616  31915.40  128459.450880   34252.20  231827.0  \n2   111919.81184  29842.10  125131.570944   33364.86   92621.0  \n3  109668.146688  29241.72  113885.208960   30366.15   95911.0  \n4  115652.472448  30837.37  121767.124608   32467.77   84972.0  ",
      "text/html": "<div>\n<style scoped>\n    .dataframe tbody tr th:only-of-type {\n        vertical-align: middle;\n    }\n\n    .dataframe tbody tr th {\n        vertical-align: top;\n    }\n\n    .dataframe thead th {\n        text-align: right;\n    }\n</style>\n<table border=\"1\" class=\"dataframe\">\n  <thead>\n    <tr style=\"text-align: right;\">\n      <th></th>\n      <th>Unnamed: 0</th>\n      <th>open_SAR</th>\n      <th>open_USD</th>\n      <th>high_SAR</th>\n      <th>high_USD</th>\n      <th>low_SAR</th>\n      <th>low_USD</th>\n      <th>close_SAR</th>\n      <th>close_USD</th>\n      <th>volume</th>\n    </tr>\n  </thead>\n  <tbody>\n    <tr>\n      <th>0</th>\n      <td>2021-01-30</td>\n      <td>128437.248512</td>\n      <td>34246.28</td>\n      <td>131012.723200</td>\n      <td>34933.00</td>\n      <td>123106.88</td>\n      <td>32825.00</td>\n      <td>128333.212416</td>\n      <td>34218.54</td>\n      <td>43072.0</td>\n    </tr>\n    <tr>\n      <th>1</th>\n      <td>2021-01-29</td>\n      <td>125144.022272</td>\n      <td>33368.18</td>\n      <td>144510.037760</td>\n      <td>38531.90</td>\n      <td>119695.51616</td>\n      <td>31915.40</td>\n      <td>128459.450880</td>\n      <td>34252.20</td>\n      <td>231827.0</td>\n    </tr>\n    <tr>\n      <th>2</th>\n      <td>2021-01-28</td>\n      <td>113870.357376</td>\n      <td>30362.19</td>\n      <td>126703.438592</td>\n      <td>33783.98</td>\n      <td>111919.81184</td>\n      <td>29842.10</td>\n      <td>125131.570944</td>\n      <td>33364.86</td>\n      <td>92621.0</td>\n    </tr>\n    <tr>\n      <th>3</th>\n      <td>2021-01-27</td>\n      <td>121753.023104</td>\n      <td>32464.01</td>\n      <td>122102.860416</td>\n      <td>32557.29</td>\n      <td>109668.146688</td>\n      <td>29241.72</td>\n      <td>113885.208960</td>\n      <td>30366.15</td>\n      <td>95911.0</td>\n    </tr>\n    <tr>\n      <th>4</th>\n      <td>2021-01-26</td>\n      <td>120966.114176</td>\n      <td>32254.19</td>\n      <td>123470.218752</td>\n      <td>32921.88</td>\n      <td>115652.472448</td>\n      <td>30837.37</td>\n      <td>121767.124608</td>\n      <td>32467.77</td>\n      <td>84972.0</td>\n    </tr>\n  </tbody>\n</table>\n</div>"
     },
     "execution_count": 3,
     "metadata": {},
     "output_type": "execute_result"
    }
   ],
   "source": [
    "data.head()"
   ],
   "metadata": {
    "collapsed": false
   }
  },
  {
   "cell_type": "code",
   "execution_count": 4,
   "outputs": [
    {
     "data": {
      "text/plain": "         date       open_SAR  open_USD       high_SAR  high_USD  \\\n0  2021-01-30  128437.248512  34246.28  131012.723200  34933.00   \n1  2021-01-29  125144.022272  33368.18  144510.037760  38531.90   \n2  2021-01-28  113870.357376  30362.19  126703.438592  33783.98   \n3  2021-01-27  121753.023104  32464.01  122102.860416  32557.29   \n4  2021-01-26  120966.114176  32254.19  123470.218752  32921.88   \n\n         low_SAR   low_USD      close_SAR  close_USD    volume  \n0      123106.88  32825.00  128333.212416   34218.54   43072.0  \n1   119695.51616  31915.40  128459.450880   34252.20  231827.0  \n2   111919.81184  29842.10  125131.570944   33364.86   92621.0  \n3  109668.146688  29241.72  113885.208960   30366.15   95911.0  \n4  115652.472448  30837.37  121767.124608   32467.77   84972.0  ",
      "text/html": "<div>\n<style scoped>\n    .dataframe tbody tr th:only-of-type {\n        vertical-align: middle;\n    }\n\n    .dataframe tbody tr th {\n        vertical-align: top;\n    }\n\n    .dataframe thead th {\n        text-align: right;\n    }\n</style>\n<table border=\"1\" class=\"dataframe\">\n  <thead>\n    <tr style=\"text-align: right;\">\n      <th></th>\n      <th>date</th>\n      <th>open_SAR</th>\n      <th>open_USD</th>\n      <th>high_SAR</th>\n      <th>high_USD</th>\n      <th>low_SAR</th>\n      <th>low_USD</th>\n      <th>close_SAR</th>\n      <th>close_USD</th>\n      <th>volume</th>\n    </tr>\n  </thead>\n  <tbody>\n    <tr>\n      <th>0</th>\n      <td>2021-01-30</td>\n      <td>128437.248512</td>\n      <td>34246.28</td>\n      <td>131012.723200</td>\n      <td>34933.00</td>\n      <td>123106.88</td>\n      <td>32825.00</td>\n      <td>128333.212416</td>\n      <td>34218.54</td>\n      <td>43072.0</td>\n    </tr>\n    <tr>\n      <th>1</th>\n      <td>2021-01-29</td>\n      <td>125144.022272</td>\n      <td>33368.18</td>\n      <td>144510.037760</td>\n      <td>38531.90</td>\n      <td>119695.51616</td>\n      <td>31915.40</td>\n      <td>128459.450880</td>\n      <td>34252.20</td>\n      <td>231827.0</td>\n    </tr>\n    <tr>\n      <th>2</th>\n      <td>2021-01-28</td>\n      <td>113870.357376</td>\n      <td>30362.19</td>\n      <td>126703.438592</td>\n      <td>33783.98</td>\n      <td>111919.81184</td>\n      <td>29842.10</td>\n      <td>125131.570944</td>\n      <td>33364.86</td>\n      <td>92621.0</td>\n    </tr>\n    <tr>\n      <th>3</th>\n      <td>2021-01-27</td>\n      <td>121753.023104</td>\n      <td>32464.01</td>\n      <td>122102.860416</td>\n      <td>32557.29</td>\n      <td>109668.146688</td>\n      <td>29241.72</td>\n      <td>113885.208960</td>\n      <td>30366.15</td>\n      <td>95911.0</td>\n    </tr>\n    <tr>\n      <th>4</th>\n      <td>2021-01-26</td>\n      <td>120966.114176</td>\n      <td>32254.19</td>\n      <td>123470.218752</td>\n      <td>32921.88</td>\n      <td>115652.472448</td>\n      <td>30837.37</td>\n      <td>121767.124608</td>\n      <td>32467.77</td>\n      <td>84972.0</td>\n    </tr>\n  </tbody>\n</table>\n</div>"
     },
     "execution_count": 4,
     "metadata": {},
     "output_type": "execute_result"
    }
   ],
   "source": [
    "data.rename(columns={'Unnamed: 0':'date'}, inplace=True)\n",
    "data.head()"
   ],
   "metadata": {
    "collapsed": false
   }
  },
  {
   "cell_type": "code",
   "execution_count": 5,
   "outputs": [
    {
     "data": {
      "text/plain": "           open_USD       high_SAR      high_USD       low_USD      close_SAR  \\\ncount   1008.000000    1008.000000   1007.000000   1008.000000    1008.000000   \nmean    9442.112103   36375.879594   9700.834181   9234.656263   35460.962359   \nstd     6022.063308   23782.811191   6329.423415   6068.102075   22874.071846   \nmin     3211.710000      -5.000000   3276.500000   3156.260000    6723.350000   \n25%     6474.720000   24695.427648   6584.995000   6341.060000   24252.946080   \n50%     8224.735000   31509.323136   8403.000000   8057.945000   30841.995712   \n75%    10302.770000   39251.011328  10466.500000  10032.500000   38637.699040   \nmax    40586.960000  157329.280000  41950.000000  73867.390848  152201.770624   \n\n           close_USD         volume  \ncount    1008.000000    1006.000000  \nmean     9598.722897   53280.344930  \nstd      6998.045009   35661.808385  \nmin      3211.720000  -45576.000000  \n25%      6474.720000   30062.250000  \n50%      8229.265000   43819.500000  \n75%     10311.700000   64980.500000  \nmax    115463.000000  402201.000000  ",
      "text/html": "<div>\n<style scoped>\n    .dataframe tbody tr th:only-of-type {\n        vertical-align: middle;\n    }\n\n    .dataframe tbody tr th {\n        vertical-align: top;\n    }\n\n    .dataframe thead th {\n        text-align: right;\n    }\n</style>\n<table border=\"1\" class=\"dataframe\">\n  <thead>\n    <tr style=\"text-align: right;\">\n      <th></th>\n      <th>open_USD</th>\n      <th>high_SAR</th>\n      <th>high_USD</th>\n      <th>low_USD</th>\n      <th>close_SAR</th>\n      <th>close_USD</th>\n      <th>volume</th>\n    </tr>\n  </thead>\n  <tbody>\n    <tr>\n      <th>count</th>\n      <td>1008.000000</td>\n      <td>1008.000000</td>\n      <td>1007.000000</td>\n      <td>1008.000000</td>\n      <td>1008.000000</td>\n      <td>1008.000000</td>\n      <td>1006.000000</td>\n    </tr>\n    <tr>\n      <th>mean</th>\n      <td>9442.112103</td>\n      <td>36375.879594</td>\n      <td>9700.834181</td>\n      <td>9234.656263</td>\n      <td>35460.962359</td>\n      <td>9598.722897</td>\n      <td>53280.344930</td>\n    </tr>\n    <tr>\n      <th>std</th>\n      <td>6022.063308</td>\n      <td>23782.811191</td>\n      <td>6329.423415</td>\n      <td>6068.102075</td>\n      <td>22874.071846</td>\n      <td>6998.045009</td>\n      <td>35661.808385</td>\n    </tr>\n    <tr>\n      <th>min</th>\n      <td>3211.710000</td>\n      <td>-5.000000</td>\n      <td>3276.500000</td>\n      <td>3156.260000</td>\n      <td>6723.350000</td>\n      <td>3211.720000</td>\n      <td>-45576.000000</td>\n    </tr>\n    <tr>\n      <th>25%</th>\n      <td>6474.720000</td>\n      <td>24695.427648</td>\n      <td>6584.995000</td>\n      <td>6341.060000</td>\n      <td>24252.946080</td>\n      <td>6474.720000</td>\n      <td>30062.250000</td>\n    </tr>\n    <tr>\n      <th>50%</th>\n      <td>8224.735000</td>\n      <td>31509.323136</td>\n      <td>8403.000000</td>\n      <td>8057.945000</td>\n      <td>30841.995712</td>\n      <td>8229.265000</td>\n      <td>43819.500000</td>\n    </tr>\n    <tr>\n      <th>75%</th>\n      <td>10302.770000</td>\n      <td>39251.011328</td>\n      <td>10466.500000</td>\n      <td>10032.500000</td>\n      <td>38637.699040</td>\n      <td>10311.700000</td>\n      <td>64980.500000</td>\n    </tr>\n    <tr>\n      <th>max</th>\n      <td>40586.960000</td>\n      <td>157329.280000</td>\n      <td>41950.000000</td>\n      <td>73867.390848</td>\n      <td>152201.770624</td>\n      <td>115463.000000</td>\n      <td>402201.000000</td>\n    </tr>\n  </tbody>\n</table>\n</div>"
     },
     "execution_count": 5,
     "metadata": {},
     "output_type": "execute_result"
    }
   ],
   "source": [
    "data.describe()"
   ],
   "metadata": {
    "collapsed": false
   }
  },
  {
   "cell_type": "code",
   "execution_count": 6,
   "outputs": [
    {
     "data": {
      "text/plain": "          date       open_SAR  open_USD       high_SAR  high_USD  \\\n73  2020-11-30      68201.024  18185.00   74494.795264       NaN   \n22  2021-01-08  147887.572992  39432.48  157329.280000  41950.00   \n21  2021-01-09  152217.334784  40586.96  155191.552000  41380.00   \n23  2021-01-07  137899.807744  36769.36  151384.896000  40365.00   \n16  2021-01-14  140157.623552  37371.38  150391.040000  40100.00   \n20  2021-01-10  150346.860288  40088.22  155079.040000  41350.00   \n17  2021-01-13   127697.93216  34049.15  141952.640000  37850.00   \n24  2021-01-06  127324.317312  33949.53  138536.813184  36939.21   \n30  2021-01-06  127324.317312  33949.53  138536.813184  36939.21   \n15  2021-01-15  146810.195584  39145.21  149069.999104  39747.76   \n\n          low_SAR       low_USD      close_SAR  close_USD    volume  \n73       18184.99  73867.390848   19695.870000  115463.00       NaN  \n22       136889.6  36500.000000  152201.770624   40582.81  139789.0  \n21     145215.488  38720.000000  150346.860288   40088.22   75785.0  \n23      136139.52  36300.000000  147886.822912   39432.28  132825.0  \n16  137644.292992  36701.230000  146807.532800   39144.50  102950.0  \n20  131680.706944  35111.110000  143077.835008   38150.02  118209.0  \n17     121437.952  32380.000000  140157.623552   37371.38  124477.0  \n24    124843.3152  33288.000000  137899.807744   36769.36  127139.0  \n30    124843.3152  33288.000000  137899.807744   36769.36  127139.0  \n15    129043.7632  34408.000000  137798.021888   36742.22  118300.0  ",
      "text/html": "<div>\n<style scoped>\n    .dataframe tbody tr th:only-of-type {\n        vertical-align: middle;\n    }\n\n    .dataframe tbody tr th {\n        vertical-align: top;\n    }\n\n    .dataframe thead th {\n        text-align: right;\n    }\n</style>\n<table border=\"1\" class=\"dataframe\">\n  <thead>\n    <tr style=\"text-align: right;\">\n      <th></th>\n      <th>date</th>\n      <th>open_SAR</th>\n      <th>open_USD</th>\n      <th>high_SAR</th>\n      <th>high_USD</th>\n      <th>low_SAR</th>\n      <th>low_USD</th>\n      <th>close_SAR</th>\n      <th>close_USD</th>\n      <th>volume</th>\n    </tr>\n  </thead>\n  <tbody>\n    <tr>\n      <th>73</th>\n      <td>2020-11-30</td>\n      <td>68201.024</td>\n      <td>18185.00</td>\n      <td>74494.795264</td>\n      <td>NaN</td>\n      <td>18184.99</td>\n      <td>73867.390848</td>\n      <td>19695.870000</td>\n      <td>115463.00</td>\n      <td>NaN</td>\n    </tr>\n    <tr>\n      <th>22</th>\n      <td>2021-01-08</td>\n      <td>147887.572992</td>\n      <td>39432.48</td>\n      <td>157329.280000</td>\n      <td>41950.00</td>\n      <td>136889.6</td>\n      <td>36500.000000</td>\n      <td>152201.770624</td>\n      <td>40582.81</td>\n      <td>139789.0</td>\n    </tr>\n    <tr>\n      <th>21</th>\n      <td>2021-01-09</td>\n      <td>152217.334784</td>\n      <td>40586.96</td>\n      <td>155191.552000</td>\n      <td>41380.00</td>\n      <td>145215.488</td>\n      <td>38720.000000</td>\n      <td>150346.860288</td>\n      <td>40088.22</td>\n      <td>75785.0</td>\n    </tr>\n    <tr>\n      <th>23</th>\n      <td>2021-01-07</td>\n      <td>137899.807744</td>\n      <td>36769.36</td>\n      <td>151384.896000</td>\n      <td>40365.00</td>\n      <td>136139.52</td>\n      <td>36300.000000</td>\n      <td>147886.822912</td>\n      <td>39432.28</td>\n      <td>132825.0</td>\n    </tr>\n    <tr>\n      <th>16</th>\n      <td>2021-01-14</td>\n      <td>140157.623552</td>\n      <td>37371.38</td>\n      <td>150391.040000</td>\n      <td>40100.00</td>\n      <td>137644.292992</td>\n      <td>36701.230000</td>\n      <td>146807.532800</td>\n      <td>39144.50</td>\n      <td>102950.0</td>\n    </tr>\n    <tr>\n      <th>20</th>\n      <td>2021-01-10</td>\n      <td>150346.860288</td>\n      <td>40088.22</td>\n      <td>155079.040000</td>\n      <td>41350.00</td>\n      <td>131680.706944</td>\n      <td>35111.110000</td>\n      <td>143077.835008</td>\n      <td>38150.02</td>\n      <td>118209.0</td>\n    </tr>\n    <tr>\n      <th>17</th>\n      <td>2021-01-13</td>\n      <td>127697.93216</td>\n      <td>34049.15</td>\n      <td>141952.640000</td>\n      <td>37850.00</td>\n      <td>121437.952</td>\n      <td>32380.000000</td>\n      <td>140157.623552</td>\n      <td>37371.38</td>\n      <td>124477.0</td>\n    </tr>\n    <tr>\n      <th>24</th>\n      <td>2021-01-06</td>\n      <td>127324.317312</td>\n      <td>33949.53</td>\n      <td>138536.813184</td>\n      <td>36939.21</td>\n      <td>124843.3152</td>\n      <td>33288.000000</td>\n      <td>137899.807744</td>\n      <td>36769.36</td>\n      <td>127139.0</td>\n    </tr>\n    <tr>\n      <th>30</th>\n      <td>2021-01-06</td>\n      <td>127324.317312</td>\n      <td>33949.53</td>\n      <td>138536.813184</td>\n      <td>36939.21</td>\n      <td>124843.3152</td>\n      <td>33288.000000</td>\n      <td>137899.807744</td>\n      <td>36769.36</td>\n      <td>127139.0</td>\n    </tr>\n    <tr>\n      <th>15</th>\n      <td>2021-01-15</td>\n      <td>146810.195584</td>\n      <td>39145.21</td>\n      <td>149069.999104</td>\n      <td>39747.76</td>\n      <td>129043.7632</td>\n      <td>34408.000000</td>\n      <td>137798.021888</td>\n      <td>36742.22</td>\n      <td>118300.0</td>\n    </tr>\n  </tbody>\n</table>\n</div>"
     },
     "execution_count": 6,
     "metadata": {},
     "output_type": "execute_result"
    }
   ],
   "source": [
    "data.nlargest(n=10, columns='close_USD')"
   ],
   "metadata": {
    "collapsed": false
   }
  },
  {
   "cell_type": "code",
   "execution_count": 7,
   "outputs": [],
   "source": [
    "data.drop([73], axis=0, inplace=True)"
   ],
   "metadata": {
    "collapsed": false
   }
  },
  {
   "cell_type": "code",
   "execution_count": 8,
   "outputs": [
    {
     "data": {
      "text/plain": "           date       open_SAR  open_USD       high_SAR  high_USD  \\\n335  2020-03-13   18001.957504   4800.01   22333.632000   5955.00   \n336  2020-03-12   29757.848832   7934.58   29876.323968   7966.17   \n19   2021-01-11  143077.835008  38150.02  143508.080896  38264.74   \n1    2021-01-29  125144.022272  33368.18  144510.037760  38531.90   \n332  2020-03-16   20103.381632   5360.33   20122.471168   5365.42   \n328  2020-03-20    23110.15232   6162.05   25877.760000   6900.00   \n287  2020-04-30   32923.186432   8778.58   35478.784000   9460.00   \n329  2020-03-19   20226.882304   5393.26   24002.560000   6400.00   \n56   2020-12-17   80016.734208  21335.52   89259.520000  23800.00   \n277  2020-05-10    35775.44064   9539.10   35909.442432   9574.83   \n\n          low_SAR   low_USD      close_SAR  close_USD    volume  \n335  14184.500352   3782.13   20921.981440    5578.60  402201.0  \n336     16539.264   4410.00   18001.920000    4800.00  261505.0  \n19     114087.168  30420.00  132780.924288   35404.47  249131.0  \n1    119695.51616  31915.40  128459.450880   34252.20  231827.0  \n332  16659.726848   4442.12   18860.649088    5028.97  227276.0  \n328     21264.768   5670.00   23283.833344    6208.36  219298.0  \n287    31507.1104   8401.00   32328.448000    8620.00  206277.0  \n329  19699.088512   5252.53   23111.352448    6162.37  199020.0  \n56      79620.992  21230.00   85498.468864   22797.16  184882.0  \n277    30441.9968   8117.00   32713.876608    8722.77  183865.0  ",
      "text/html": "<div>\n<style scoped>\n    .dataframe tbody tr th:only-of-type {\n        vertical-align: middle;\n    }\n\n    .dataframe tbody tr th {\n        vertical-align: top;\n    }\n\n    .dataframe thead th {\n        text-align: right;\n    }\n</style>\n<table border=\"1\" class=\"dataframe\">\n  <thead>\n    <tr style=\"text-align: right;\">\n      <th></th>\n      <th>date</th>\n      <th>open_SAR</th>\n      <th>open_USD</th>\n      <th>high_SAR</th>\n      <th>high_USD</th>\n      <th>low_SAR</th>\n      <th>low_USD</th>\n      <th>close_SAR</th>\n      <th>close_USD</th>\n      <th>volume</th>\n    </tr>\n  </thead>\n  <tbody>\n    <tr>\n      <th>335</th>\n      <td>2020-03-13</td>\n      <td>18001.957504</td>\n      <td>4800.01</td>\n      <td>22333.632000</td>\n      <td>5955.00</td>\n      <td>14184.500352</td>\n      <td>3782.13</td>\n      <td>20921.981440</td>\n      <td>5578.60</td>\n      <td>402201.0</td>\n    </tr>\n    <tr>\n      <th>336</th>\n      <td>2020-03-12</td>\n      <td>29757.848832</td>\n      <td>7934.58</td>\n      <td>29876.323968</td>\n      <td>7966.17</td>\n      <td>16539.264</td>\n      <td>4410.00</td>\n      <td>18001.920000</td>\n      <td>4800.00</td>\n      <td>261505.0</td>\n    </tr>\n    <tr>\n      <th>19</th>\n      <td>2021-01-11</td>\n      <td>143077.835008</td>\n      <td>38150.02</td>\n      <td>143508.080896</td>\n      <td>38264.74</td>\n      <td>114087.168</td>\n      <td>30420.00</td>\n      <td>132780.924288</td>\n      <td>35404.47</td>\n      <td>249131.0</td>\n    </tr>\n    <tr>\n      <th>1</th>\n      <td>2021-01-29</td>\n      <td>125144.022272</td>\n      <td>33368.18</td>\n      <td>144510.037760</td>\n      <td>38531.90</td>\n      <td>119695.51616</td>\n      <td>31915.40</td>\n      <td>128459.450880</td>\n      <td>34252.20</td>\n      <td>231827.0</td>\n    </tr>\n    <tr>\n      <th>332</th>\n      <td>2020-03-16</td>\n      <td>20103.381632</td>\n      <td>5360.33</td>\n      <td>20122.471168</td>\n      <td>5365.42</td>\n      <td>16659.726848</td>\n      <td>4442.12</td>\n      <td>18860.649088</td>\n      <td>5028.97</td>\n      <td>227276.0</td>\n    </tr>\n    <tr>\n      <th>328</th>\n      <td>2020-03-20</td>\n      <td>23110.15232</td>\n      <td>6162.05</td>\n      <td>25877.760000</td>\n      <td>6900.00</td>\n      <td>21264.768</td>\n      <td>5670.00</td>\n      <td>23283.833344</td>\n      <td>6208.36</td>\n      <td>219298.0</td>\n    </tr>\n    <tr>\n      <th>287</th>\n      <td>2020-04-30</td>\n      <td>32923.186432</td>\n      <td>8778.58</td>\n      <td>35478.784000</td>\n      <td>9460.00</td>\n      <td>31507.1104</td>\n      <td>8401.00</td>\n      <td>32328.448000</td>\n      <td>8620.00</td>\n      <td>206277.0</td>\n    </tr>\n    <tr>\n      <th>329</th>\n      <td>2020-03-19</td>\n      <td>20226.882304</td>\n      <td>5393.26</td>\n      <td>24002.560000</td>\n      <td>6400.00</td>\n      <td>19699.088512</td>\n      <td>5252.53</td>\n      <td>23111.352448</td>\n      <td>6162.37</td>\n      <td>199020.0</td>\n    </tr>\n    <tr>\n      <th>56</th>\n      <td>2020-12-17</td>\n      <td>80016.734208</td>\n      <td>21335.52</td>\n      <td>89259.520000</td>\n      <td>23800.00</td>\n      <td>79620.992</td>\n      <td>21230.00</td>\n      <td>85498.468864</td>\n      <td>22797.16</td>\n      <td>184882.0</td>\n    </tr>\n    <tr>\n      <th>277</th>\n      <td>2020-05-10</td>\n      <td>35775.44064</td>\n      <td>9539.10</td>\n      <td>35909.442432</td>\n      <td>9574.83</td>\n      <td>30441.9968</td>\n      <td>8117.00</td>\n      <td>32713.876608</td>\n      <td>8722.77</td>\n      <td>183865.0</td>\n    </tr>\n  </tbody>\n</table>\n</div>"
     },
     "execution_count": 8,
     "metadata": {},
     "output_type": "execute_result"
    }
   ],
   "source": [
    "data.nlargest(n=10, columns='volume')"
   ],
   "metadata": {
    "collapsed": false
   }
  },
  {
   "cell_type": "code",
   "execution_count": 9,
   "outputs": [],
   "source": [
    "data.drop([335], axis=0, inplace=True)"
   ],
   "metadata": {
    "collapsed": false
   }
  },
  {
   "cell_type": "code",
   "execution_count": 10,
   "outputs": [
    {
     "data": {
      "text/plain": "           date      open_SAR  open_USD      high_SAR  high_USD       low_SAR  \\\n218  2020-07-08   34718.95296   9257.40  35516.288000   9470.00    34619.9424   \n837  2018-10-28   24398.60224   6505.60  24430.743168   6514.17    24201.3312   \n844  2018-10-21  24699.084288   6585.72  24992.290560   6663.90     24677.632   \n831  2018-11-03   24125.57312   6432.80  24152.463488   6439.97     23796.288   \n824  2018-11-10  24077.530496   6419.99  24285.902720   6475.55    24043.8144   \n838  2018-10-27  24522.477952   6538.63  24596.435840   6558.35  24238.985216   \n823  2018-11-11  24134.424064   6435.16  24235.609856   6462.14     23833.792   \n835  2018-10-30    23794.4128   6344.50  23983.808000   6395.00  23691.314304   \n829  2018-11-05   24324.53184   6485.85  24394.064256   6504.39  24118.897408   \n833  2018-11-01  23888.247808   6369.52  24162.514560   6442.65  23810.014464   \n\n     low_USD     close_SAR  close_USD   volume  \n218  9231.00  35388.999424    9436.06 -45576.0  \n837  6453.00  24339.833472    6489.93   5743.0  \n844  6580.00  24715.548544    6590.11   6515.0  \n831  6345.00  23954.142336    6387.09   7661.0  \n824  6411.00  24126.510720    6433.05   7714.0  \n838  6463.04  24398.602240    6505.60   7776.0  \n823  6355.00  24189.367424    6449.81   8213.0  \n835  6317.01  23743.294848    6330.87   8877.0  \n829  6431.02  24261.300096    6468.99   8987.0  \n833  6348.66  24040.064000    6410.00   9099.0  ",
      "text/html": "<div>\n<style scoped>\n    .dataframe tbody tr th:only-of-type {\n        vertical-align: middle;\n    }\n\n    .dataframe tbody tr th {\n        vertical-align: top;\n    }\n\n    .dataframe thead th {\n        text-align: right;\n    }\n</style>\n<table border=\"1\" class=\"dataframe\">\n  <thead>\n    <tr style=\"text-align: right;\">\n      <th></th>\n      <th>date</th>\n      <th>open_SAR</th>\n      <th>open_USD</th>\n      <th>high_SAR</th>\n      <th>high_USD</th>\n      <th>low_SAR</th>\n      <th>low_USD</th>\n      <th>close_SAR</th>\n      <th>close_USD</th>\n      <th>volume</th>\n    </tr>\n  </thead>\n  <tbody>\n    <tr>\n      <th>218</th>\n      <td>2020-07-08</td>\n      <td>34718.95296</td>\n      <td>9257.40</td>\n      <td>35516.288000</td>\n      <td>9470.00</td>\n      <td>34619.9424</td>\n      <td>9231.00</td>\n      <td>35388.999424</td>\n      <td>9436.06</td>\n      <td>-45576.0</td>\n    </tr>\n    <tr>\n      <th>837</th>\n      <td>2018-10-28</td>\n      <td>24398.60224</td>\n      <td>6505.60</td>\n      <td>24430.743168</td>\n      <td>6514.17</td>\n      <td>24201.3312</td>\n      <td>6453.00</td>\n      <td>24339.833472</td>\n      <td>6489.93</td>\n      <td>5743.0</td>\n    </tr>\n    <tr>\n      <th>844</th>\n      <td>2018-10-21</td>\n      <td>24699.084288</td>\n      <td>6585.72</td>\n      <td>24992.290560</td>\n      <td>6663.90</td>\n      <td>24677.632</td>\n      <td>6580.00</td>\n      <td>24715.548544</td>\n      <td>6590.11</td>\n      <td>6515.0</td>\n    </tr>\n    <tr>\n      <th>831</th>\n      <td>2018-11-03</td>\n      <td>24125.57312</td>\n      <td>6432.80</td>\n      <td>24152.463488</td>\n      <td>6439.97</td>\n      <td>23796.288</td>\n      <td>6345.00</td>\n      <td>23954.142336</td>\n      <td>6387.09</td>\n      <td>7661.0</td>\n    </tr>\n    <tr>\n      <th>824</th>\n      <td>2018-11-10</td>\n      <td>24077.530496</td>\n      <td>6419.99</td>\n      <td>24285.902720</td>\n      <td>6475.55</td>\n      <td>24043.8144</td>\n      <td>6411.00</td>\n      <td>24126.510720</td>\n      <td>6433.05</td>\n      <td>7714.0</td>\n    </tr>\n    <tr>\n      <th>838</th>\n      <td>2018-10-27</td>\n      <td>24522.477952</td>\n      <td>6538.63</td>\n      <td>24596.435840</td>\n      <td>6558.35</td>\n      <td>24238.985216</td>\n      <td>6463.04</td>\n      <td>24398.602240</td>\n      <td>6505.60</td>\n      <td>7776.0</td>\n    </tr>\n    <tr>\n      <th>823</th>\n      <td>2018-11-11</td>\n      <td>24134.424064</td>\n      <td>6435.16</td>\n      <td>24235.609856</td>\n      <td>6462.14</td>\n      <td>23833.792</td>\n      <td>6355.00</td>\n      <td>24189.367424</td>\n      <td>6449.81</td>\n      <td>8213.0</td>\n    </tr>\n    <tr>\n      <th>835</th>\n      <td>2018-10-30</td>\n      <td>23794.4128</td>\n      <td>6344.50</td>\n      <td>23983.808000</td>\n      <td>6395.00</td>\n      <td>23691.314304</td>\n      <td>6317.01</td>\n      <td>23743.294848</td>\n      <td>6330.87</td>\n      <td>8877.0</td>\n    </tr>\n    <tr>\n      <th>829</th>\n      <td>2018-11-05</td>\n      <td>24324.53184</td>\n      <td>6485.85</td>\n      <td>24394.064256</td>\n      <td>6504.39</td>\n      <td>24118.897408</td>\n      <td>6431.02</td>\n      <td>24261.300096</td>\n      <td>6468.99</td>\n      <td>8987.0</td>\n    </tr>\n    <tr>\n      <th>833</th>\n      <td>2018-11-01</td>\n      <td>23888.247808</td>\n      <td>6369.52</td>\n      <td>24162.514560</td>\n      <td>6442.65</td>\n      <td>23810.014464</td>\n      <td>6348.66</td>\n      <td>24040.064000</td>\n      <td>6410.00</td>\n      <td>9099.0</td>\n    </tr>\n  </tbody>\n</table>\n</div>"
     },
     "execution_count": 10,
     "metadata": {},
     "output_type": "execute_result"
    }
   ],
   "source": [
    "data.nsmallest(n=10, columns='volume')"
   ],
   "metadata": {
    "collapsed": false
   }
  },
  {
   "cell_type": "code",
   "execution_count": 11,
   "outputs": [],
   "source": [
    "data.drop([218], axis=0, inplace=True)"
   ],
   "metadata": {
    "collapsed": false
   }
  },
  {
   "cell_type": "code",
   "execution_count": 12,
   "outputs": [
    {
     "data": {
      "text/plain": "           date      open_SAR  open_USD      high_SAR  high_USD       low_SAR  \\\n187  2020-08-08  43483.487744  11594.36     -5.000000  11808.27    43174.6048   \n789  2018-12-15  12095.752576   3225.19  12288.185600   3276.50  11837.237504   \n788  2018-12-16  12045.197184   3211.71  12353.817600   3294.00    11948.7744   \n790  2018-12-14  12384.045824   3302.06  12509.046656   3335.39    11915.0208   \n735  2019-02-07    12777.6128   3407.00  12850.558080   3426.45     12713.856   \n744  2019-01-29    12878.8736   3434.00  12914.314880   3443.45  12563.539968   \n791  2018-12-13  12925.303552   3446.38  12976.384000   3460.00    12209.4272   \n743  2019-01-30  12789.014016   3410.04  13043.891200   3478.00   12702.97984   \n737  2019-02-05  12988.460288   3463.22  13047.529088   3478.97  12932.991872   \n793  2018-12-11  12878.911104   3434.01  13051.392000   3480.00  12467.529728   \n\n      low_USD     close_SAR  close_USD   volume  \n187  11512.00  44109.992064   11761.41  41858.0  \n789   3156.26  12045.234688    3211.72  29796.0  \n788   3186.00  12108.803968    3228.67  24628.0  \n790   3177.00  12091.927168    3224.17  44492.0  \n735   3390.00  12745.359360    3398.40  18665.0  \n744   3349.92  12792.764416    3411.04  29544.0  \n791   3255.50  12384.045824    3302.06  40040.0  \n743   3387.10  12969.558272    3458.18  23968.0  \n737   3448.43  13019.851136    3471.59  25264.0  \n793   3324.32  12677.814656    3380.39  35920.0  ",
      "text/html": "<div>\n<style scoped>\n    .dataframe tbody tr th:only-of-type {\n        vertical-align: middle;\n    }\n\n    .dataframe tbody tr th {\n        vertical-align: top;\n    }\n\n    .dataframe thead th {\n        text-align: right;\n    }\n</style>\n<table border=\"1\" class=\"dataframe\">\n  <thead>\n    <tr style=\"text-align: right;\">\n      <th></th>\n      <th>date</th>\n      <th>open_SAR</th>\n      <th>open_USD</th>\n      <th>high_SAR</th>\n      <th>high_USD</th>\n      <th>low_SAR</th>\n      <th>low_USD</th>\n      <th>close_SAR</th>\n      <th>close_USD</th>\n      <th>volume</th>\n    </tr>\n  </thead>\n  <tbody>\n    <tr>\n      <th>187</th>\n      <td>2020-08-08</td>\n      <td>43483.487744</td>\n      <td>11594.36</td>\n      <td>-5.000000</td>\n      <td>11808.27</td>\n      <td>43174.6048</td>\n      <td>11512.00</td>\n      <td>44109.992064</td>\n      <td>11761.41</td>\n      <td>41858.0</td>\n    </tr>\n    <tr>\n      <th>789</th>\n      <td>2018-12-15</td>\n      <td>12095.752576</td>\n      <td>3225.19</td>\n      <td>12288.185600</td>\n      <td>3276.50</td>\n      <td>11837.237504</td>\n      <td>3156.26</td>\n      <td>12045.234688</td>\n      <td>3211.72</td>\n      <td>29796.0</td>\n    </tr>\n    <tr>\n      <th>788</th>\n      <td>2018-12-16</td>\n      <td>12045.197184</td>\n      <td>3211.71</td>\n      <td>12353.817600</td>\n      <td>3294.00</td>\n      <td>11948.7744</td>\n      <td>3186.00</td>\n      <td>12108.803968</td>\n      <td>3228.67</td>\n      <td>24628.0</td>\n    </tr>\n    <tr>\n      <th>790</th>\n      <td>2018-12-14</td>\n      <td>12384.045824</td>\n      <td>3302.06</td>\n      <td>12509.046656</td>\n      <td>3335.39</td>\n      <td>11915.0208</td>\n      <td>3177.00</td>\n      <td>12091.927168</td>\n      <td>3224.17</td>\n      <td>44492.0</td>\n    </tr>\n    <tr>\n      <th>735</th>\n      <td>2019-02-07</td>\n      <td>12777.6128</td>\n      <td>3407.00</td>\n      <td>12850.558080</td>\n      <td>3426.45</td>\n      <td>12713.856</td>\n      <td>3390.00</td>\n      <td>12745.359360</td>\n      <td>3398.40</td>\n      <td>18665.0</td>\n    </tr>\n    <tr>\n      <th>744</th>\n      <td>2019-01-29</td>\n      <td>12878.8736</td>\n      <td>3434.00</td>\n      <td>12914.314880</td>\n      <td>3443.45</td>\n      <td>12563.539968</td>\n      <td>3349.92</td>\n      <td>12792.764416</td>\n      <td>3411.04</td>\n      <td>29544.0</td>\n    </tr>\n    <tr>\n      <th>791</th>\n      <td>2018-12-13</td>\n      <td>12925.303552</td>\n      <td>3446.38</td>\n      <td>12976.384000</td>\n      <td>3460.00</td>\n      <td>12209.4272</td>\n      <td>3255.50</td>\n      <td>12384.045824</td>\n      <td>3302.06</td>\n      <td>40040.0</td>\n    </tr>\n    <tr>\n      <th>743</th>\n      <td>2019-01-30</td>\n      <td>12789.014016</td>\n      <td>3410.04</td>\n      <td>13043.891200</td>\n      <td>3478.00</td>\n      <td>12702.97984</td>\n      <td>3387.10</td>\n      <td>12969.558272</td>\n      <td>3458.18</td>\n      <td>23968.0</td>\n    </tr>\n    <tr>\n      <th>737</th>\n      <td>2019-02-05</td>\n      <td>12988.460288</td>\n      <td>3463.22</td>\n      <td>13047.529088</td>\n      <td>3478.97</td>\n      <td>12932.991872</td>\n      <td>3448.43</td>\n      <td>13019.851136</td>\n      <td>3471.59</td>\n      <td>25264.0</td>\n    </tr>\n    <tr>\n      <th>793</th>\n      <td>2018-12-11</td>\n      <td>12878.911104</td>\n      <td>3434.01</td>\n      <td>13051.392000</td>\n      <td>3480.00</td>\n      <td>12467.529728</td>\n      <td>3324.32</td>\n      <td>12677.814656</td>\n      <td>3380.39</td>\n      <td>35920.0</td>\n    </tr>\n  </tbody>\n</table>\n</div>"
     },
     "execution_count": 12,
     "metadata": {},
     "output_type": "execute_result"
    }
   ],
   "source": [
    "data.nsmallest(n=10, columns='high_SAR')"
   ],
   "metadata": {
    "collapsed": false
   }
  },
  {
   "cell_type": "code",
   "execution_count": 13,
   "outputs": [],
   "source": [
    "data.drop([187], axis=0, inplace=True)"
   ],
   "metadata": {
    "collapsed": false
   }
  },
  {
   "cell_type": "code",
   "execution_count": 14,
   "outputs": [
    {
     "data": {
      "text/plain": "date         0\nopen_SAR     5\nopen_USD     4\nhigh_SAR     4\nhigh_USD     4\nlow_SAR      4\nlow_USD      4\nclose_SAR    4\nclose_USD    4\nvolume       5\ndtype: int64"
     },
     "execution_count": 14,
     "metadata": {},
     "output_type": "execute_result"
    }
   ],
   "source": [
    "data.isna().sum()"
   ],
   "metadata": {
    "collapsed": false
   }
  },
  {
   "cell_type": "code",
   "execution_count": 15,
   "outputs": [
    {
     "data": {
      "text/plain": "date         0\nopen_SAR     0\nopen_USD     0\nhigh_SAR     0\nhigh_USD     0\nlow_SAR      0\nlow_USD      0\nclose_SAR    0\nclose_USD    0\nvolume       0\ndtype: int64"
     },
     "execution_count": 15,
     "metadata": {},
     "output_type": "execute_result"
    }
   ],
   "source": [
    "data.dropna(axis=0, inplace=True)\n",
    "data.isna().sum()"
   ],
   "metadata": {
    "collapsed": false
   }
  },
  {
   "cell_type": "code",
   "execution_count": 16,
   "outputs": [
    {
     "data": {
      "text/plain": "11"
     },
     "execution_count": 16,
     "metadata": {},
     "output_type": "execute_result"
    }
   ],
   "source": [
    "data.duplicated().sum()"
   ],
   "metadata": {
    "collapsed": false
   }
  },
  {
   "cell_type": "code",
   "execution_count": 17,
   "outputs": [
    {
     "data": {
      "text/plain": "0"
     },
     "execution_count": 17,
     "metadata": {},
     "output_type": "execute_result"
    }
   ],
   "source": [
    "data.drop_duplicates(inplace=True)\n",
    "data.duplicated().sum()\n"
   ],
   "metadata": {
    "collapsed": false
   }
  }
 ],
 "metadata": {
  "kernelspec": {
   "display_name": "Python 3",
   "language": "python",
   "name": "python3"
  },
  "language_info": {
   "codemirror_mode": {
    "name": "ipython",
    "version": 2
   },
   "file_extension": ".py",
   "mimetype": "text/x-python",
   "name": "python",
   "nbconvert_exporter": "python",
   "pygments_lexer": "ipython2",
   "version": "2.7.6"
  }
 },
 "nbformat": 4,
 "nbformat_minor": 0
}
